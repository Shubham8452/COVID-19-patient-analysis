{
  "nbformat": 4,
  "nbformat_minor": 0,
  "metadata": {
    "colab": {
      "provenance": [],
      "authorship_tag": "ABX9TyMxyqeAt6QLdRItdHw/FCPO",
      "include_colab_link": true
    },
    "kernelspec": {
      "name": "python3",
      "display_name": "Python 3"
    },
    "language_info": {
      "name": "python"
    }
  },
  "cells": [
    {
      "cell_type": "markdown",
      "metadata": {
        "id": "view-in-github",
        "colab_type": "text"
      },
      "source": [
        "<a href=\"https://colab.research.google.com/github/Shubham8452/COVID-19-patient-analysis/blob/master/Untitled27.ipynb\" target=\"_parent\"><img src=\"https://colab.research.google.com/assets/colab-badge.svg\" alt=\"Open In Colab\"/></a>"
      ]
    },
    {
      "cell_type": "code",
      "execution_count": 1,
      "metadata": {
        "id": "GOC_vu1YygPK"
      },
      "outputs": [],
      "source": [
        "import requests\n",
        "from bs4 import BeautifulSoup as bs\n",
        "from urllib.request import urlopen as uReq\n",
        "import logging"
      ]
    },
    {
      "cell_type": "code",
      "source": [
        "flipcart_url = \"https://www.flipkart.com/search?q=\"+\"iphone+15\"\n"
      ],
      "metadata": {
        "id": "NjFh2gQFymJk"
      },
      "execution_count": 6,
      "outputs": []
    },
    {
      "cell_type": "code",
      "source": [
        "urlclient = uReq(flipcart_url)\n",
        "flipcart_page=urlclient.read()\n",
        "Boxbig = flipcart_page.find(\"div\",{\"class\":\"cPHDOP col-12-12\"})\n",
        "len(Boxbig)\n",
        "Boxbig[3].div.div.div.a['href']"
      ],
      "metadata": {
        "id": "SWyIMuaBzHFn"
      },
      "execution_count": null,
      "outputs": []
    }
  ]
}
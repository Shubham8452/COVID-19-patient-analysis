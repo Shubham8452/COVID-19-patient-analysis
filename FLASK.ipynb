{
  "nbformat": 4,
  "nbformat_minor": 0,
  "metadata": {
    "colab": {
      "provenance": [],
      "authorship_tag": "ABX9TyOfWoC4jEI76zZRCFeabBSq",
      "include_colab_link": true
    },
    "kernelspec": {
      "name": "python3",
      "display_name": "Python 3"
    },
    "language_info": {
      "name": "python"
    }
  },
  "cells": [
    {
      "cell_type": "markdown",
      "metadata": {
        "id": "view-in-github",
        "colab_type": "text"
      },
      "source": [
        "<a href=\"https://colab.research.google.com/github/Shubham8452/COVID-19-patient-analysis/blob/master/FLASK.ipynb\" target=\"_parent\"><img src=\"https://colab.research.google.com/assets/colab-badge.svg\" alt=\"Open In Colab\"/></a>"
      ]
    },
    {
      "cell_type": "code",
      "source": [
        "from flask import Flask\n"
      ],
      "metadata": {
        "id": "fGucTR0sekje"
      },
      "execution_count": 8,
      "outputs": []
    },
    {
      "cell_type": "code",
      "source": [
        "app=Flask(__name__)"
      ],
      "metadata": {
        "id": "8YJh1BXJRzV_"
      },
      "execution_count": 2,
      "outputs": []
    },
    {
      "cell_type": "code",
      "source": [
        "@app.route(\"/\")\n",
        "def hello_world():\n",
        "    return \"<h1>Hello, World!</h1>\""
      ],
      "metadata": {
        "id": "Kiig95HXR_oX"
      },
      "execution_count": 3,
      "outputs": []
    },
    {
      "cell_type": "code",
      "source": [
        "@app.route(\"/hello_world1\")\n",
        "def hello_world1():\n",
        "    return \"<h1>Hello, World!</h1>\""
      ],
      "metadata": {
        "id": "Rl3sj6jZXwr3"
      },
      "execution_count": 5,
      "outputs": []
    },
    {
      "cell_type": "code",
      "source": [
        "@app.route(\"/test1\")\n",
        "def test1():\n",
        "    data=request.args.get(x)\n",
        "    return \"HELLO INDIA {}\".format(data)"
      ],
      "metadata": {
        "id": "uyjTjHn2dyec"
      },
      "execution_count": null,
      "outputs": []
    },
    {
      "cell_type": "code",
      "source": [
        "if __name__ == '__main__':\n",
        "  app.run(host=\"0.0.0.0\")"
      ],
      "metadata": {
        "colab": {
          "base_uri": "https://localhost:8080/"
        },
        "id": "AdSswQazTgF3",
        "outputId": "ea71be74-25a8-4dec-d667-96891d8540a0"
      },
      "execution_count": 4,
      "outputs": [
        {
          "output_type": "stream",
          "name": "stdout",
          "text": [
            " * Serving Flask app '__main__'\n",
            " * Debug mode: off\n"
          ]
        },
        {
          "output_type": "stream",
          "name": "stderr",
          "text": [
            "INFO:werkzeug:\u001b[31m\u001b[1mWARNING: This is a development server. Do not use it in a production deployment. Use a production WSGI server instead.\u001b[0m\n",
            " * Running on all addresses (0.0.0.0)\n",
            " * Running on http://127.0.0.1:5000\n",
            " * Running on http://172.28.0.12:5000\n",
            "INFO:werkzeug:\u001b[33mPress CTRL+C to quit\u001b[0m\n"
          ]
        }
      ]
    },
    {
      "cell_type": "code",
      "source": [],
      "metadata": {
        "id": "8P1PTQV7V9OZ"
      },
      "execution_count": null,
      "outputs": []
    }
  ]
}
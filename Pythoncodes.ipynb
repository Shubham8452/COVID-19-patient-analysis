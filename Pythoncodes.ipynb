{
  "nbformat": 4,
  "nbformat_minor": 0,
  "metadata": {
    "colab": {
      "provenance": [],
      "authorship_tag": "ABX9TyPw5kH6287wSlrecRxZXaPO",
      "include_colab_link": true
    },
    "kernelspec": {
      "name": "python3",
      "display_name": "Python 3"
    },
    "language_info": {
      "name": "python"
    }
  },
  "cells": [
    {
      "cell_type": "markdown",
      "metadata": {
        "id": "view-in-github",
        "colab_type": "text"
      },
      "source": [
        "<a href=\"https://colab.research.google.com/github/Shubham8452/COVID-19-patient-analysis/blob/master/Pythoncodes.ipynb\" target=\"_parent\"><img src=\"https://colab.research.google.com/assets/colab-badge.svg\" alt=\"Open In Colab\"/></a>"
      ]
    },
    {
      "cell_type": "code",
      "source": [
        "def fact(n):\n",
        "  if n == 0:\n",
        "   return 1\n",
        "  return n * fact(n-1)"
      ],
      "metadata": {
        "id": "G9KqKoxAg-nu"
      },
      "execution_count": 9,
      "outputs": []
    },
    {
      "cell_type": "code",
      "source": [
        "print(fact(5))"
      ],
      "metadata": {
        "colab": {
          "base_uri": "https://localhost:8080/"
        },
        "id": "5gLFF_E8h5dy",
        "outputId": "f32858a4-a9c5-4c9f-d192-d818238d3361"
      },
      "execution_count": 10,
      "outputs": [
        {
          "output_type": "stream",
          "name": "stdout",
          "text": [
            "120\n"
          ]
        }
      ]
    },
    {
      "cell_type": "code",
      "source": [
        "l =[2,3,4,5,7,7,2,3,4,5,2,3,4,5]\n",
        "l1 = list(set(l))"
      ],
      "metadata": {
        "id": "LF1eYFk7i0ic"
      },
      "execution_count": 12,
      "outputs": []
    },
    {
      "cell_type": "code",
      "source": [
        "l1"
      ],
      "metadata": {
        "colab": {
          "base_uri": "https://localhost:8080/"
        },
        "id": "uRbXewMojB18",
        "outputId": "c6f623b2-f02b-4488-e074-4946aa759abb"
      },
      "execution_count": 13,
      "outputs": [
        {
          "output_type": "execute_result",
          "data": {
            "text/plain": [
              "[2, 3, 4, 5, 7]"
            ]
          },
          "metadata": {},
          "execution_count": 13
        }
      ]
    },
    {
      "cell_type": "code",
      "source": [
        "def palin(s):\n",
        "  return s==s[::-1]\n",
        "\n",
        "print(palin('shubham'))"
      ],
      "metadata": {
        "colab": {
          "base_uri": "https://localhost:8080/"
        },
        "id": "6gM42Bq3jhFK",
        "outputId": "c499aea4-6664-4f10-ddbd-84e3790141eb"
      },
      "execution_count": 15,
      "outputs": [
        {
          "output_type": "stream",
          "name": "stdout",
          "text": [
            "False\n"
          ]
        }
      ]
    },
    {
      "cell_type": "code",
      "source": [
        "def longest(sentence):\n",
        "  abc = sentence.split()\n",
        "  return max(abc,key=len)\n",
        "\n",
        "\n",
        "sentence='I love my India very muchh'\n",
        "print(longest(sentence))\n"
      ],
      "metadata": {
        "colab": {
          "base_uri": "https://localhost:8080/"
        },
        "id": "q0tRrW2JkmkS",
        "outputId": "70bc9f1d-7839-435b-c1af-dbfc038e76d3"
      },
      "execution_count": 18,
      "outputs": [
        {
          "output_type": "stream",
          "name": "stdout",
          "text": [
            "India\n"
          ]
        }
      ]
    },
    {
      "cell_type": "code",
      "source": [
        "list1 = []\n",
        "def uppercase(word):\n",
        "  for i in word:\n",
        "    list1 = [i for i in word if i.islower()]\n",
        "    return list1\n",
        "\n",
        "word='ShuBham is Great SinGer'\n",
        "uppercase(word)"
      ],
      "metadata": {
        "colab": {
          "base_uri": "https://localhost:8080/"
        },
        "id": "oK_hNMTTn2nu",
        "outputId": "104a36ba-1add-4f15-8616-39e4f6648228"
      },
      "execution_count": 23,
      "outputs": [
        {
          "output_type": "execute_result",
          "data": {
            "text/plain": [
              "['h', 'u', 'h', 'a', 'm', 'i', 's', 'r', 'e', 'a', 't', 'i', 'n', 'e', 'r']"
            ]
          },
          "metadata": {},
          "execution_count": 23
        }
      ]
    },
    {
      "cell_type": "code",
      "source": [
        "def intersect(s1,s2):\n",
        "  return s1 & s2\n",
        "print(intersect({1,2,3,4},{2,3,4,5,6}))\n"
      ],
      "metadata": {
        "colab": {
          "base_uri": "https://localhost:8080/"
        },
        "id": "WmSQM7rHoaDA",
        "outputId": "b28b8c65-73f8-42f9-81a1-31faf2800484"
      },
      "execution_count": 24,
      "outputs": [
        {
          "output_type": "stream",
          "name": "stdout",
          "text": [
            "{2, 3, 4}\n"
          ]
        }
      ]
    },
    {
      "cell_type": "code",
      "source": [
        "def celsius_to_fahrenheit(temps):\n",
        "    return [(temp * 9/5) + 32 for temp in temps]\n",
        "print(celsius_to_fahrenheit([0, 20, 37]))"
      ],
      "metadata": {
        "colab": {
          "base_uri": "https://localhost:8080/"
        },
        "id": "hkPyzFFNtA-x",
        "outputId": "f99e16b4-b701-4f15-bb2a-7c30e4b239fa"
      },
      "execution_count": 25,
      "outputs": [
        {
          "output_type": "stream",
          "name": "stdout",
          "text": [
            "[32.0, 68.0, 98.6]\n"
          ]
        }
      ]
    }
  ]
}
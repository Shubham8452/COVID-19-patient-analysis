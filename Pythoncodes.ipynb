{
  "nbformat": 4,
  "nbformat_minor": 0,
  "metadata": {
    "colab": {
      "provenance": [],
      "authorship_tag": "ABX9TyP3i4jPS2uNOqxNiWOPpNiu",
      "include_colab_link": true
    },
    "kernelspec": {
      "name": "python3",
      "display_name": "Python 3"
    },
    "language_info": {
      "name": "python"
    }
  },
  "cells": [
    {
      "cell_type": "markdown",
      "metadata": {
        "id": "view-in-github",
        "colab_type": "text"
      },
      "source": [
        "<a href=\"https://colab.research.google.com/github/Shubham8452/COVID-19-patient-analysis/blob/master/Pythoncodes.ipynb\" target=\"_parent\"><img src=\"https://colab.research.google.com/assets/colab-badge.svg\" alt=\"Open In Colab\"/></a>"
      ]
    },
    {
      "cell_type": "code",
      "source": [
        "def fact(n):\n",
        "  if n == 0:\n",
        "   return 1\n",
        "  return n * fact(n-1)"
      ],
      "metadata": {
        "id": "G9KqKoxAg-nu"
      },
      "execution_count": null,
      "outputs": []
    },
    {
      "cell_type": "code",
      "source": [],
      "metadata": {
        "id": "_s5KJNcL2ZRE"
      },
      "execution_count": null,
      "outputs": []
    },
    {
      "cell_type": "code",
      "source": [
        "print(fact(5))"
      ],
      "metadata": {
        "colab": {
          "base_uri": "https://localhost:8080/"
        },
        "id": "5gLFF_E8h5dy",
        "outputId": "f32858a4-a9c5-4c9f-d192-d818238d3361"
      },
      "execution_count": null,
      "outputs": [
        {
          "output_type": "stream",
          "name": "stdout",
          "text": [
            "120\n"
          ]
        }
      ]
    },
    {
      "cell_type": "code",
      "source": [
        "l =[2,3,4,5,7,7,2,3,4,5,2,3,4,5]\n",
        "l1 = list(set(l))"
      ],
      "metadata": {
        "id": "LF1eYFk7i0ic"
      },
      "execution_count": null,
      "outputs": []
    },
    {
      "cell_type": "code",
      "source": [
        "l1"
      ],
      "metadata": {
        "colab": {
          "base_uri": "https://localhost:8080/"
        },
        "id": "uRbXewMojB18",
        "outputId": "c6f623b2-f02b-4488-e074-4946aa759abb"
      },
      "execution_count": null,
      "outputs": [
        {
          "output_type": "execute_result",
          "data": {
            "text/plain": [
              "[2, 3, 4, 5, 7]"
            ]
          },
          "metadata": {},
          "execution_count": 13
        }
      ]
    },
    {
      "cell_type": "code",
      "source": [
        "def palin(s):\n",
        "  return s==s[::-1]\n",
        "\n",
        "print(palin('shubham'))"
      ],
      "metadata": {
        "colab": {
          "base_uri": "https://localhost:8080/"
        },
        "id": "6gM42Bq3jhFK",
        "outputId": "c499aea4-6664-4f10-ddbd-84e3790141eb"
      },
      "execution_count": null,
      "outputs": [
        {
          "output_type": "stream",
          "name": "stdout",
          "text": [
            "False\n"
          ]
        }
      ]
    },
    {
      "cell_type": "code",
      "source": [
        "def longest(sentence):\n",
        "  abc = sentence.split()\n",
        "  return max(abc,key=len)\n",
        "\n",
        "\n",
        "sentence='I love my India very muchh'\n",
        "print(longest(sentence))\n"
      ],
      "metadata": {
        "colab": {
          "base_uri": "https://localhost:8080/"
        },
        "id": "q0tRrW2JkmkS",
        "outputId": "70bc9f1d-7839-435b-c1af-dbfc038e76d3"
      },
      "execution_count": null,
      "outputs": [
        {
          "output_type": "stream",
          "name": "stdout",
          "text": [
            "India\n"
          ]
        }
      ]
    },
    {
      "cell_type": "code",
      "source": [
        "list1 = []\n",
        "def uppercase(word):\n",
        "  for i in word:\n",
        "    list1 = [i for i in word if i.islower()]\n",
        "    return list1\n",
        "\n",
        "word='ShuBham is Great SinGer'\n",
        "uppercase(word)"
      ],
      "metadata": {
        "colab": {
          "base_uri": "https://localhost:8080/"
        },
        "id": "oK_hNMTTn2nu",
        "outputId": "104a36ba-1add-4f15-8616-39e4f6648228"
      },
      "execution_count": null,
      "outputs": [
        {
          "output_type": "execute_result",
          "data": {
            "text/plain": [
              "['h', 'u', 'h', 'a', 'm', 'i', 's', 'r', 'e', 'a', 't', 'i', 'n', 'e', 'r']"
            ]
          },
          "metadata": {},
          "execution_count": 23
        }
      ]
    },
    {
      "cell_type": "code",
      "source": [
        "def intersect(s1,s2):\n",
        "  return s1 & s2\n",
        "print(intersect({1,2,3,4},{2,3,4,5,6}))\n"
      ],
      "metadata": {
        "colab": {
          "base_uri": "https://localhost:8080/"
        },
        "id": "WmSQM7rHoaDA",
        "outputId": "b28b8c65-73f8-42f9-81a1-31faf2800484"
      },
      "execution_count": null,
      "outputs": [
        {
          "output_type": "stream",
          "name": "stdout",
          "text": [
            "{2, 3, 4}\n"
          ]
        }
      ]
    },
    {
      "cell_type": "code",
      "source": [
        "def celsius_to_fahrenheit(temps):\n",
        "    return [(temp * 9/5) + 32 for temp in temps]\n",
        "print(celsius_to_fahrenheit([0, 20, 37]))"
      ],
      "metadata": {
        "colab": {
          "base_uri": "https://localhost:8080/"
        },
        "id": "hkPyzFFNtA-x",
        "outputId": "f99e16b4-b701-4f15-bb2a-7c30e4b239fa"
      },
      "execution_count": null,
      "outputs": [
        {
          "output_type": "stream",
          "name": "stdout",
          "text": [
            "[32.0, 68.0, 98.6]\n"
          ]
        }
      ]
    },
    {
      "cell_type": "code",
      "source": [
        "from collections import deque\n",
        "\n",
        "class Queue:\n",
        "    def __init__(self):\n",
        "        self.queue = deque()\n",
        "\n",
        "    def enqueue(self, item):\n",
        "        self.queue.append(item)\n",
        "\n",
        "    def dequeue(self):\n",
        "        return self.queue.popleft() if self.queue else None\n",
        "\n",
        "q = Queue()\n",
        "q.enqueue(1)\n",
        "q.enqueue(2)\n",
        "print(q.dequeue())"
      ],
      "metadata": {
        "colab": {
          "base_uri": "https://localhost:8080/"
        },
        "id": "ejLlHm_7v-RF",
        "outputId": "5f9f1991-d02f-41e3-817b-2abe9aa7cfe4"
      },
      "execution_count": null,
      "outputs": [
        {
          "output_type": "stream",
          "name": "stdout",
          "text": [
            "1\n"
          ]
        }
      ]
    },
    {
      "cell_type": "code",
      "source": [
        "def count_uppercase(s):\n",
        "    sum1=0\n",
        "    for char in s:\n",
        "      if char.isupper():\n",
        "        sum1=sum1+1\n",
        "    return sum1\n",
        "\n",
        "print(count_uppercase(\"ShubHam\"))  # 1"
      ],
      "metadata": {
        "colab": {
          "base_uri": "https://localhost:8080/"
        },
        "id": "BOU9tr3Rwv4W",
        "outputId": "444155ae-fb01-4537-c65d-09ac5c6d5900"
      },
      "execution_count": null,
      "outputs": [
        {
          "output_type": "stream",
          "name": "stdout",
          "text": [
            "2\n"
          ]
        }
      ]
    },
    {
      "cell_type": "code",
      "source": [
        "def count_uppercase(s):\n",
        "    # Use a different variable name or remove the assignment of sum = 0 if it's no longer needed.\n",
        "    # Here, we'll use count instead of sum.\n",
        "    count = 0\n",
        "    for char in s:\n",
        "        if char.isupper():\n",
        "            count += 1\n",
        "    return count\n",
        "\n",
        "print(count_uppercase(\"Nxtwave\"))"
      ],
      "metadata": {
        "colab": {
          "base_uri": "https://localhost:8080/"
        },
        "id": "lHFim4t4x3Z3",
        "outputId": "a9643129-291b-4364-b734-c7784839c001"
      },
      "execution_count": null,
      "outputs": [
        {
          "output_type": "stream",
          "name": "stdout",
          "text": [
            "1\n"
          ]
        }
      ]
    },
    {
      "cell_type": "code",
      "source": [
        "# Write a program to print the given number is odd or even.\n",
        "\n",
        "def odd_even_checker(num):\n",
        "    if num % 2==0:\n",
        "        print(f\"{num} is Even\")\n",
        "    else:\n",
        "        print(f\"{num} is Odd\")\n",
        "\n",
        "num = int(input(\"Enter Your Number : \"))\n",
        "odd_even_checker(num)\n"
      ],
      "metadata": {
        "colab": {
          "base_uri": "https://localhost:8080/"
        },
        "id": "_JWLt8hp2ahL",
        "outputId": "4ca85719-8b93-4938-d248-250d34244ea5"
      },
      "execution_count": 39,
      "outputs": [
        {
          "output_type": "stream",
          "name": "stdout",
          "text": [
            "Enter Your Number : 23\n",
            "23 is Odd\n"
          ]
        }
      ]
    },
    {
      "cell_type": "code",
      "source": [
        "def anagram(s1,s2):\n",
        "  if sorted(s1)==sorted(s2):\n",
        "    return \"Anagram\"\n",
        "  else :\n",
        "    return \"Not Anagram\"\n",
        "\n",
        "s1=str(input(\"Enter str1 :\"))\n",
        "s2=str(input(\"Enter str 2:\"))\n",
        "anagram(s1,s2)"
      ],
      "metadata": {
        "colab": {
          "base_uri": "https://localhost:8080/",
          "height": 70
        },
        "id": "EEE7GjNY5TtS",
        "outputId": "d20c060f-ea3c-433d-d762-6bca21beac1f"
      },
      "execution_count": 41,
      "outputs": [
        {
          "name": "stdout",
          "output_type": "stream",
          "text": [
            "Enter str1 :mug\n",
            "Enter str 2:gum\n"
          ]
        },
        {
          "output_type": "execute_result",
          "data": {
            "text/plain": [
              "'Anagram'"
            ],
            "application/vnd.google.colaboratory.intrinsic+json": {
              "type": "string"
            }
          },
          "metadata": {},
          "execution_count": 41
        }
      ]
    },
    {
      "cell_type": "code",
      "source": [
        "def checkPalindrome(num):\n",
        "    temp = num\n",
        "    rev = 0\n",
        "    while temp>0:\n",
        "      dig =temp%10\n",
        "      rev = rev*10+dig\n",
        "      temp=temp//10\n",
        "    if num == rev:\n",
        "        print(\"Is Palindrome\")\n",
        "    else:\n",
        "        print(\"Not Palindrome\")\n",
        "\n",
        "\n",
        "checkPalindrome(545)"
      ],
      "metadata": {
        "colab": {
          "base_uri": "https://localhost:8080/"
        },
        "id": "6Kk4CHjL7qou",
        "outputId": "a54316c9-22f5-4c4c-bf0d-aa90eb213f49"
      },
      "execution_count": 48,
      "outputs": [
        {
          "output_type": "stream",
          "name": "stdout",
          "text": [
            "Is Palindrome\n"
          ]
        }
      ]
    },
    {
      "cell_type": "code",
      "source": [
        "# Write a program to print the following pattern.\n",
        "# A\n",
        "# B C\n",
        "# D E F\n",
        "# G H I J\n",
        "\n",
        "def pattern():\n",
        "  numA = 97\n",
        "  for i in range(0,4):\n",
        "    print(\"\\r\")\n",
        "    for j in range(0,i+1):\n",
        "      temp = chr(numA)\n",
        "      print(temp,end=\" \")\n",
        "      numA = numA + 1\n",
        "\n",
        "pattern()"
      ],
      "metadata": {
        "colab": {
          "base_uri": "https://localhost:8080/"
        },
        "id": "9wrqefQ48yam",
        "outputId": "14dfced7-2b5c-4c25-c824-1b25685c68ba"
      },
      "execution_count": 57,
      "outputs": [
        {
          "output_type": "stream",
          "name": "stdout",
          "text": [
            "\r\n",
            "a \r\n",
            "b c \r\n",
            "d e f \r\n",
            "g h i j "
          ]
        }
      ]
    },
    {
      "cell_type": "code",
      "source": [
        "# Write a program to print the following pattern.\n",
        "# A\n",
        "# B B\n",
        "# C C C\n",
        "# D D D D\n",
        "\n",
        "def pattern():\n",
        "  numA = 65\n",
        "  for i in range(0,4):\n",
        "    print(\"\\r\")\n",
        "    for j in range(0,i+1):\n",
        "      temp = chr(numA)\n",
        "      print(temp,end=\" \")\n",
        "    numA = numA + 1\n",
        "\n",
        "\n",
        "pattern()"
      ],
      "metadata": {
        "colab": {
          "base_uri": "https://localhost:8080/"
        },
        "id": "urYbGXGf-DKK",
        "outputId": "36f4dab6-cd07-4a0b-871e-72e6e6aa01ff"
      },
      "execution_count": 61,
      "outputs": [
        {
          "output_type": "stream",
          "name": "stdout",
          "text": [
            "\r\n",
            "A \r\n",
            "B B \r\n",
            "C C C \r\n",
            "D D D D "
          ]
        }
      ]
    }
  ]
}